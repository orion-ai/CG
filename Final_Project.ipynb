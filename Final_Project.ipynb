{
  "nbformat": 4,
  "nbformat_minor": 0,
  "metadata": {
    "colab": {
      "provenance": [],
      "toc_visible": true,
      "authorship_tag": "ABX9TyP/80RYMGaxsP7n8uq7JqQG",
      "include_colab_link": true
    },
    "kernelspec": {
      "name": "python3",
      "display_name": "Python 3"
    },
    "language_info": {
      "name": "python"
    }
  },
  "cells": [
    {
      "cell_type": "markdown",
      "metadata": {
        "id": "view-in-github",
        "colab_type": "text"
      },
      "source": [
        "<a href=\"https://colab.research.google.com/github/orion-ai/CG/blob/master/Final_Project.ipynb\" target=\"_parent\"><img src=\"https://colab.research.google.com/assets/colab-badge.svg\" alt=\"Open In Colab\"/></a>"
      ]
    },
    {
      "cell_type": "code",
      "source": [
        "import pandas as pd\n",
        "import seaborn as sns\n",
        "import numpy as np\n",
        "import matplotlib.pyplot as plt\n",
        "import io\n",
        "\n",
        "from sklearn.ensemble import RandomForestClassifier\n",
        "from sklearn.model_selection import train_test_split, GridSearchCV\n",
        "from sklearn.metrics import roc_auc_score, accuracy_score, f1_score, recall_score, precision_score\n",
        "from sklearn.experimental import enable_halving_search_cv\n",
        "from sklearn.model_selection import HalvingRandomSearchCV\n",
        "from sklearn.dummy import DummyClassifier\n",
        "from sklearn.metrics import accuracy_score, ConfusionMatrixDisplay\n",
        "from sklearn.linear_model import LogisticRegression\n",
        "from sklearn.tree import DecisionTreeClassifier\n",
        "from sklearn.ensemble import RandomForestClassifier, GradientBoostingClassifier\n",
        "from sklearn.pipeline import make_pipeline\n",
        "from google.colab import files\n",
        "\n",
        "from imblearn.over_sampling import RandomOverSampler\n",
        "\n",
        "from scipy.stats import randint\n",
        "\n",
        "from statsmodels.stats.outliers_influence import variance_inflation_factor"
      ],
      "metadata": {
        "id": "SmqqBQnWzAtj"
      },
      "execution_count": 67,
      "outputs": []
    },
    {
      "cell_type": "markdown",
      "source": [
        "# Gathering the Data"
      ],
      "metadata": {
        "id": "poQ9VXIjewq2"
      }
    },
    {
      "cell_type": "code",
      "source": [
        "data = files.upload()"
      ],
      "metadata": {
        "colab": {
          "base_uri": "https://localhost:8080/",
          "height": 108
        },
        "id": "8IogZ5732CaN",
        "outputId": "ee2cb9df-bcfb-49dd-95f4-ad459ea9f274"
      },
      "execution_count": 68,
      "outputs": [
        {
          "output_type": "display_data",
          "data": {
            "text/plain": [
              "<IPython.core.display.HTML object>"
            ],
            "text/html": [
              "\n",
              "     <input type=\"file\" id=\"files-ae245a41-3b28-4335-a22a-502272e713c5\" name=\"files[]\" multiple disabled\n",
              "        style=\"border:none\" />\n",
              "     <output id=\"result-ae245a41-3b28-4335-a22a-502272e713c5\">\n",
              "      Upload widget is only available when the cell has been executed in the\n",
              "      current browser session. Please rerun this cell to enable.\n",
              "      </output>\n",
              "      <script>// Copyright 2017 Google LLC\n",
              "//\n",
              "// Licensed under the Apache License, Version 2.0 (the \"License\");\n",
              "// you may not use this file except in compliance with the License.\n",
              "// You may obtain a copy of the License at\n",
              "//\n",
              "//      http://www.apache.org/licenses/LICENSE-2.0\n",
              "//\n",
              "// Unless required by applicable law or agreed to in writing, software\n",
              "// distributed under the License is distributed on an \"AS IS\" BASIS,\n",
              "// WITHOUT WARRANTIES OR CONDITIONS OF ANY KIND, either express or implied.\n",
              "// See the License for the specific language governing permissions and\n",
              "// limitations under the License.\n",
              "\n",
              "/**\n",
              " * @fileoverview Helpers for google.colab Python module.\n",
              " */\n",
              "(function(scope) {\n",
              "function span(text, styleAttributes = {}) {\n",
              "  const element = document.createElement('span');\n",
              "  element.textContent = text;\n",
              "  for (const key of Object.keys(styleAttributes)) {\n",
              "    element.style[key] = styleAttributes[key];\n",
              "  }\n",
              "  return element;\n",
              "}\n",
              "\n",
              "// Max number of bytes which will be uploaded at a time.\n",
              "const MAX_PAYLOAD_SIZE = 100 * 1024;\n",
              "\n",
              "function _uploadFiles(inputId, outputId) {\n",
              "  const steps = uploadFilesStep(inputId, outputId);\n",
              "  const outputElement = document.getElementById(outputId);\n",
              "  // Cache steps on the outputElement to make it available for the next call\n",
              "  // to uploadFilesContinue from Python.\n",
              "  outputElement.steps = steps;\n",
              "\n",
              "  return _uploadFilesContinue(outputId);\n",
              "}\n",
              "\n",
              "// This is roughly an async generator (not supported in the browser yet),\n",
              "// where there are multiple asynchronous steps and the Python side is going\n",
              "// to poll for completion of each step.\n",
              "// This uses a Promise to block the python side on completion of each step,\n",
              "// then passes the result of the previous step as the input to the next step.\n",
              "function _uploadFilesContinue(outputId) {\n",
              "  const outputElement = document.getElementById(outputId);\n",
              "  const steps = outputElement.steps;\n",
              "\n",
              "  const next = steps.next(outputElement.lastPromiseValue);\n",
              "  return Promise.resolve(next.value.promise).then((value) => {\n",
              "    // Cache the last promise value to make it available to the next\n",
              "    // step of the generator.\n",
              "    outputElement.lastPromiseValue = value;\n",
              "    return next.value.response;\n",
              "  });\n",
              "}\n",
              "\n",
              "/**\n",
              " * Generator function which is called between each async step of the upload\n",
              " * process.\n",
              " * @param {string} inputId Element ID of the input file picker element.\n",
              " * @param {string} outputId Element ID of the output display.\n",
              " * @return {!Iterable<!Object>} Iterable of next steps.\n",
              " */\n",
              "function* uploadFilesStep(inputId, outputId) {\n",
              "  const inputElement = document.getElementById(inputId);\n",
              "  inputElement.disabled = false;\n",
              "\n",
              "  const outputElement = document.getElementById(outputId);\n",
              "  outputElement.innerHTML = '';\n",
              "\n",
              "  const pickedPromise = new Promise((resolve) => {\n",
              "    inputElement.addEventListener('change', (e) => {\n",
              "      resolve(e.target.files);\n",
              "    });\n",
              "  });\n",
              "\n",
              "  const cancel = document.createElement('button');\n",
              "  inputElement.parentElement.appendChild(cancel);\n",
              "  cancel.textContent = 'Cancel upload';\n",
              "  const cancelPromise = new Promise((resolve) => {\n",
              "    cancel.onclick = () => {\n",
              "      resolve(null);\n",
              "    };\n",
              "  });\n",
              "\n",
              "  // Wait for the user to pick the files.\n",
              "  const files = yield {\n",
              "    promise: Promise.race([pickedPromise, cancelPromise]),\n",
              "    response: {\n",
              "      action: 'starting',\n",
              "    }\n",
              "  };\n",
              "\n",
              "  cancel.remove();\n",
              "\n",
              "  // Disable the input element since further picks are not allowed.\n",
              "  inputElement.disabled = true;\n",
              "\n",
              "  if (!files) {\n",
              "    return {\n",
              "      response: {\n",
              "        action: 'complete',\n",
              "      }\n",
              "    };\n",
              "  }\n",
              "\n",
              "  for (const file of files) {\n",
              "    const li = document.createElement('li');\n",
              "    li.append(span(file.name, {fontWeight: 'bold'}));\n",
              "    li.append(span(\n",
              "        `(${file.type || 'n/a'}) - ${file.size} bytes, ` +\n",
              "        `last modified: ${\n",
              "            file.lastModifiedDate ? file.lastModifiedDate.toLocaleDateString() :\n",
              "                                    'n/a'} - `));\n",
              "    const percent = span('0% done');\n",
              "    li.appendChild(percent);\n",
              "\n",
              "    outputElement.appendChild(li);\n",
              "\n",
              "    const fileDataPromise = new Promise((resolve) => {\n",
              "      const reader = new FileReader();\n",
              "      reader.onload = (e) => {\n",
              "        resolve(e.target.result);\n",
              "      };\n",
              "      reader.readAsArrayBuffer(file);\n",
              "    });\n",
              "    // Wait for the data to be ready.\n",
              "    let fileData = yield {\n",
              "      promise: fileDataPromise,\n",
              "      response: {\n",
              "        action: 'continue',\n",
              "      }\n",
              "    };\n",
              "\n",
              "    // Use a chunked sending to avoid message size limits. See b/62115660.\n",
              "    let position = 0;\n",
              "    do {\n",
              "      const length = Math.min(fileData.byteLength - position, MAX_PAYLOAD_SIZE);\n",
              "      const chunk = new Uint8Array(fileData, position, length);\n",
              "      position += length;\n",
              "\n",
              "      const base64 = btoa(String.fromCharCode.apply(null, chunk));\n",
              "      yield {\n",
              "        response: {\n",
              "          action: 'append',\n",
              "          file: file.name,\n",
              "          data: base64,\n",
              "        },\n",
              "      };\n",
              "\n",
              "      let percentDone = fileData.byteLength === 0 ?\n",
              "          100 :\n",
              "          Math.round((position / fileData.byteLength) * 100);\n",
              "      percent.textContent = `${percentDone}% done`;\n",
              "\n",
              "    } while (position < fileData.byteLength);\n",
              "  }\n",
              "\n",
              "  // All done.\n",
              "  yield {\n",
              "    response: {\n",
              "      action: 'complete',\n",
              "    }\n",
              "  };\n",
              "}\n",
              "\n",
              "scope.google = scope.google || {};\n",
              "scope.google.colab = scope.google.colab || {};\n",
              "scope.google.colab._files = {\n",
              "  _uploadFiles,\n",
              "  _uploadFilesContinue,\n",
              "};\n",
              "})(self);\n",
              "</script> "
            ]
          },
          "metadata": {}
        },
        {
          "output_type": "stream",
          "name": "stdout",
          "text": [
            "Saving test.csv.zip to test.csv (1).zip\n",
            "Saving train.csv.zip to train.csv (1).zip\n"
          ]
        }
      ]
    },
    {
      "cell_type": "code",
      "source": [
        "train=pd.read_csv(\"train.csv.zip\") \n",
        "test=pd.read_csv(\"test.csv.zip\")"
      ],
      "metadata": {
        "id": "hsMXaBtv4TKA"
      },
      "execution_count": 69,
      "outputs": []
    },
    {
      "cell_type": "code",
      "source": [
        "pd.set_option('display.max_rows',100)\n",
        "pd.set_option('display.max_columns',100)"
      ],
      "metadata": {
        "id": "FDfnKJ2B4jyY"
      },
      "execution_count": 70,
      "outputs": []
    },
    {
      "cell_type": "markdown",
      "source": [
        "# EDA(Data Analysis)"
      ],
      "metadata": {
        "id": "BU9sssQie81r"
      }
    },
    {
      "cell_type": "code",
      "source": [
        "train.shape"
      ],
      "metadata": {
        "id": "d5ss0_wt41h9",
        "colab": {
          "base_uri": "https://localhost:8080/"
        },
        "outputId": "38dc2bd1-a148-44d8-9e2d-9630e073b4b4"
      },
      "execution_count": 71,
      "outputs": [
        {
          "output_type": "execute_result",
          "data": {
            "text/plain": [
              "(58592, 44)"
            ]
          },
          "metadata": {},
          "execution_count": 71
        }
      ]
    },
    {
      "cell_type": "code",
      "source": [
        "test.shape"
      ],
      "metadata": {
        "id": "XlNC_dK_5rBE",
        "colab": {
          "base_uri": "https://localhost:8080/"
        },
        "outputId": "de90cccc-33f8-4071-c82a-c11dcf3fc692"
      },
      "execution_count": 72,
      "outputs": [
        {
          "output_type": "execute_result",
          "data": {
            "text/plain": [
              "(39063, 43)"
            ]
          },
          "metadata": {},
          "execution_count": 72
        }
      ]
    },
    {
      "cell_type": "code",
      "source": [
        "train.head()"
      ],
      "metadata": {
        "id": "2P7v9lR942tk",
        "colab": {
          "base_uri": "https://localhost:8080/",
          "height": 340
        },
        "outputId": "d4c4f8a1-a9f4-4d60-b18e-a8ec4a9d8211"
      },
      "execution_count": 73,
      "outputs": [
        {
          "output_type": "execute_result",
          "data": {
            "text/plain": [
              "  policy_id  policy_tenure  age_of_car  age_of_policyholder area_cluster  \\\n",
              "0   ID00001       0.515874        0.05             0.644231           C1   \n",
              "1   ID00002       0.672619        0.02             0.375000           C2   \n",
              "2   ID00003       0.841110        0.02             0.384615           C3   \n",
              "3   ID00004       0.900277        0.11             0.432692           C4   \n",
              "4   ID00005       0.596403        0.11             0.634615           C5   \n",
              "\n",
              "   population_density  make segment model fuel_type     max_torque  \\\n",
              "0                4990     1       A    M1       CNG   60Nm@3500rpm   \n",
              "1               27003     1       A    M1       CNG   60Nm@3500rpm   \n",
              "2                4076     1       A    M1       CNG   60Nm@3500rpm   \n",
              "3               21622     1      C1    M2    Petrol  113Nm@4400rpm   \n",
              "4               34738     2       A    M3    Petrol   91Nm@4250rpm   \n",
              "\n",
              "          max_power         engine_type  airbags is_esc  \\\n",
              "0  40.36bhp@6000rpm   F8D Petrol Engine        2     No   \n",
              "1  40.36bhp@6000rpm   F8D Petrol Engine        2     No   \n",
              "2  40.36bhp@6000rpm   F8D Petrol Engine        2     No   \n",
              "3  88.50bhp@6000rpm  1.2 L K12N Dualjet        2    Yes   \n",
              "4  67.06bhp@5500rpm             1.0 SCe        2     No   \n",
              "\n",
              "  is_adjustable_steering is_tpms is_parking_sensors is_parking_camera  \\\n",
              "0                     No      No                Yes                No   \n",
              "1                     No      No                Yes                No   \n",
              "2                     No      No                Yes                No   \n",
              "3                    Yes      No                Yes               Yes   \n",
              "4                     No      No                 No               Yes   \n",
              "\n",
              "  rear_brakes_type  displacement  cylinder transmission_type  gear_box  \\\n",
              "0             Drum           796         3            Manual         5   \n",
              "1             Drum           796         3            Manual         5   \n",
              "2             Drum           796         3            Manual         5   \n",
              "3             Drum          1197         4         Automatic         5   \n",
              "4             Drum           999         3         Automatic         5   \n",
              "\n",
              "  steering_type  turning_radius  length  width  height  gross_weight  \\\n",
              "0         Power             4.6    3445   1515    1475          1185   \n",
              "1         Power             4.6    3445   1515    1475          1185   \n",
              "2         Power             4.6    3445   1515    1475          1185   \n",
              "3      Electric             4.8    3995   1735    1515          1335   \n",
              "4      Electric             5.0    3731   1579    1490          1155   \n",
              "\n",
              "  is_front_fog_lights is_rear_window_wiper is_rear_window_washer  \\\n",
              "0                  No                   No                    No   \n",
              "1                  No                   No                    No   \n",
              "2                  No                   No                    No   \n",
              "3                 Yes                   No                    No   \n",
              "4                  No                   No                    No   \n",
              "\n",
              "  is_rear_window_defogger is_brake_assist is_power_door_locks  \\\n",
              "0                      No              No                  No   \n",
              "1                      No              No                  No   \n",
              "2                      No              No                  No   \n",
              "3                     Yes             Yes                 Yes   \n",
              "4                      No              No                 Yes   \n",
              "\n",
              "  is_central_locking is_power_steering is_driver_seat_height_adjustable  \\\n",
              "0                 No               Yes                               No   \n",
              "1                 No               Yes                               No   \n",
              "2                 No               Yes                               No   \n",
              "3                Yes               Yes                              Yes   \n",
              "4                Yes               Yes                               No   \n",
              "\n",
              "  is_day_night_rear_view_mirror is_ecw is_speed_alert  ncap_rating  is_claim  \n",
              "0                            No     No            Yes            0         0  \n",
              "1                            No     No            Yes            0         0  \n",
              "2                            No     No            Yes            0         0  \n",
              "3                           Yes    Yes            Yes            2         0  \n",
              "4                           Yes    Yes            Yes            2         0  "
            ],
            "text/html": [
              "\n",
              "  <div id=\"df-cc516af3-99d7-49f2-8a6c-e05e661cc9dd\">\n",
              "    <div class=\"colab-df-container\">\n",
              "      <div>\n",
              "<style scoped>\n",
              "    .dataframe tbody tr th:only-of-type {\n",
              "        vertical-align: middle;\n",
              "    }\n",
              "\n",
              "    .dataframe tbody tr th {\n",
              "        vertical-align: top;\n",
              "    }\n",
              "\n",
              "    .dataframe thead th {\n",
              "        text-align: right;\n",
              "    }\n",
              "</style>\n",
              "<table border=\"1\" class=\"dataframe\">\n",
              "  <thead>\n",
              "    <tr style=\"text-align: right;\">\n",
              "      <th></th>\n",
              "      <th>policy_id</th>\n",
              "      <th>policy_tenure</th>\n",
              "      <th>age_of_car</th>\n",
              "      <th>age_of_policyholder</th>\n",
              "      <th>area_cluster</th>\n",
              "      <th>population_density</th>\n",
              "      <th>make</th>\n",
              "      <th>segment</th>\n",
              "      <th>model</th>\n",
              "      <th>fuel_type</th>\n",
              "      <th>max_torque</th>\n",
              "      <th>max_power</th>\n",
              "      <th>engine_type</th>\n",
              "      <th>airbags</th>\n",
              "      <th>is_esc</th>\n",
              "      <th>is_adjustable_steering</th>\n",
              "      <th>is_tpms</th>\n",
              "      <th>is_parking_sensors</th>\n",
              "      <th>is_parking_camera</th>\n",
              "      <th>rear_brakes_type</th>\n",
              "      <th>displacement</th>\n",
              "      <th>cylinder</th>\n",
              "      <th>transmission_type</th>\n",
              "      <th>gear_box</th>\n",
              "      <th>steering_type</th>\n",
              "      <th>turning_radius</th>\n",
              "      <th>length</th>\n",
              "      <th>width</th>\n",
              "      <th>height</th>\n",
              "      <th>gross_weight</th>\n",
              "      <th>is_front_fog_lights</th>\n",
              "      <th>is_rear_window_wiper</th>\n",
              "      <th>is_rear_window_washer</th>\n",
              "      <th>is_rear_window_defogger</th>\n",
              "      <th>is_brake_assist</th>\n",
              "      <th>is_power_door_locks</th>\n",
              "      <th>is_central_locking</th>\n",
              "      <th>is_power_steering</th>\n",
              "      <th>is_driver_seat_height_adjustable</th>\n",
              "      <th>is_day_night_rear_view_mirror</th>\n",
              "      <th>is_ecw</th>\n",
              "      <th>is_speed_alert</th>\n",
              "      <th>ncap_rating</th>\n",
              "      <th>is_claim</th>\n",
              "    </tr>\n",
              "  </thead>\n",
              "  <tbody>\n",
              "    <tr>\n",
              "      <th>0</th>\n",
              "      <td>ID00001</td>\n",
              "      <td>0.515874</td>\n",
              "      <td>0.05</td>\n",
              "      <td>0.644231</td>\n",
              "      <td>C1</td>\n",
              "      <td>4990</td>\n",
              "      <td>1</td>\n",
              "      <td>A</td>\n",
              "      <td>M1</td>\n",
              "      <td>CNG</td>\n",
              "      <td>60Nm@3500rpm</td>\n",
              "      <td>40.36bhp@6000rpm</td>\n",
              "      <td>F8D Petrol Engine</td>\n",
              "      <td>2</td>\n",
              "      <td>No</td>\n",
              "      <td>No</td>\n",
              "      <td>No</td>\n",
              "      <td>Yes</td>\n",
              "      <td>No</td>\n",
              "      <td>Drum</td>\n",
              "      <td>796</td>\n",
              "      <td>3</td>\n",
              "      <td>Manual</td>\n",
              "      <td>5</td>\n",
              "      <td>Power</td>\n",
              "      <td>4.6</td>\n",
              "      <td>3445</td>\n",
              "      <td>1515</td>\n",
              "      <td>1475</td>\n",
              "      <td>1185</td>\n",
              "      <td>No</td>\n",
              "      <td>No</td>\n",
              "      <td>No</td>\n",
              "      <td>No</td>\n",
              "      <td>No</td>\n",
              "      <td>No</td>\n",
              "      <td>No</td>\n",
              "      <td>Yes</td>\n",
              "      <td>No</td>\n",
              "      <td>No</td>\n",
              "      <td>No</td>\n",
              "      <td>Yes</td>\n",
              "      <td>0</td>\n",
              "      <td>0</td>\n",
              "    </tr>\n",
              "    <tr>\n",
              "      <th>1</th>\n",
              "      <td>ID00002</td>\n",
              "      <td>0.672619</td>\n",
              "      <td>0.02</td>\n",
              "      <td>0.375000</td>\n",
              "      <td>C2</td>\n",
              "      <td>27003</td>\n",
              "      <td>1</td>\n",
              "      <td>A</td>\n",
              "      <td>M1</td>\n",
              "      <td>CNG</td>\n",
              "      <td>60Nm@3500rpm</td>\n",
              "      <td>40.36bhp@6000rpm</td>\n",
              "      <td>F8D Petrol Engine</td>\n",
              "      <td>2</td>\n",
              "      <td>No</td>\n",
              "      <td>No</td>\n",
              "      <td>No</td>\n",
              "      <td>Yes</td>\n",
              "      <td>No</td>\n",
              "      <td>Drum</td>\n",
              "      <td>796</td>\n",
              "      <td>3</td>\n",
              "      <td>Manual</td>\n",
              "      <td>5</td>\n",
              "      <td>Power</td>\n",
              "      <td>4.6</td>\n",
              "      <td>3445</td>\n",
              "      <td>1515</td>\n",
              "      <td>1475</td>\n",
              "      <td>1185</td>\n",
              "      <td>No</td>\n",
              "      <td>No</td>\n",
              "      <td>No</td>\n",
              "      <td>No</td>\n",
              "      <td>No</td>\n",
              "      <td>No</td>\n",
              "      <td>No</td>\n",
              "      <td>Yes</td>\n",
              "      <td>No</td>\n",
              "      <td>No</td>\n",
              "      <td>No</td>\n",
              "      <td>Yes</td>\n",
              "      <td>0</td>\n",
              "      <td>0</td>\n",
              "    </tr>\n",
              "    <tr>\n",
              "      <th>2</th>\n",
              "      <td>ID00003</td>\n",
              "      <td>0.841110</td>\n",
              "      <td>0.02</td>\n",
              "      <td>0.384615</td>\n",
              "      <td>C3</td>\n",
              "      <td>4076</td>\n",
              "      <td>1</td>\n",
              "      <td>A</td>\n",
              "      <td>M1</td>\n",
              "      <td>CNG</td>\n",
              "      <td>60Nm@3500rpm</td>\n",
              "      <td>40.36bhp@6000rpm</td>\n",
              "      <td>F8D Petrol Engine</td>\n",
              "      <td>2</td>\n",
              "      <td>No</td>\n",
              "      <td>No</td>\n",
              "      <td>No</td>\n",
              "      <td>Yes</td>\n",
              "      <td>No</td>\n",
              "      <td>Drum</td>\n",
              "      <td>796</td>\n",
              "      <td>3</td>\n",
              "      <td>Manual</td>\n",
              "      <td>5</td>\n",
              "      <td>Power</td>\n",
              "      <td>4.6</td>\n",
              "      <td>3445</td>\n",
              "      <td>1515</td>\n",
              "      <td>1475</td>\n",
              "      <td>1185</td>\n",
              "      <td>No</td>\n",
              "      <td>No</td>\n",
              "      <td>No</td>\n",
              "      <td>No</td>\n",
              "      <td>No</td>\n",
              "      <td>No</td>\n",
              "      <td>No</td>\n",
              "      <td>Yes</td>\n",
              "      <td>No</td>\n",
              "      <td>No</td>\n",
              "      <td>No</td>\n",
              "      <td>Yes</td>\n",
              "      <td>0</td>\n",
              "      <td>0</td>\n",
              "    </tr>\n",
              "    <tr>\n",
              "      <th>3</th>\n",
              "      <td>ID00004</td>\n",
              "      <td>0.900277</td>\n",
              "      <td>0.11</td>\n",
              "      <td>0.432692</td>\n",
              "      <td>C4</td>\n",
              "      <td>21622</td>\n",
              "      <td>1</td>\n",
              "      <td>C1</td>\n",
              "      <td>M2</td>\n",
              "      <td>Petrol</td>\n",
              "      <td>113Nm@4400rpm</td>\n",
              "      <td>88.50bhp@6000rpm</td>\n",
              "      <td>1.2 L K12N Dualjet</td>\n",
              "      <td>2</td>\n",
              "      <td>Yes</td>\n",
              "      <td>Yes</td>\n",
              "      <td>No</td>\n",
              "      <td>Yes</td>\n",
              "      <td>Yes</td>\n",
              "      <td>Drum</td>\n",
              "      <td>1197</td>\n",
              "      <td>4</td>\n",
              "      <td>Automatic</td>\n",
              "      <td>5</td>\n",
              "      <td>Electric</td>\n",
              "      <td>4.8</td>\n",
              "      <td>3995</td>\n",
              "      <td>1735</td>\n",
              "      <td>1515</td>\n",
              "      <td>1335</td>\n",
              "      <td>Yes</td>\n",
              "      <td>No</td>\n",
              "      <td>No</td>\n",
              "      <td>Yes</td>\n",
              "      <td>Yes</td>\n",
              "      <td>Yes</td>\n",
              "      <td>Yes</td>\n",
              "      <td>Yes</td>\n",
              "      <td>Yes</td>\n",
              "      <td>Yes</td>\n",
              "      <td>Yes</td>\n",
              "      <td>Yes</td>\n",
              "      <td>2</td>\n",
              "      <td>0</td>\n",
              "    </tr>\n",
              "    <tr>\n",
              "      <th>4</th>\n",
              "      <td>ID00005</td>\n",
              "      <td>0.596403</td>\n",
              "      <td>0.11</td>\n",
              "      <td>0.634615</td>\n",
              "      <td>C5</td>\n",
              "      <td>34738</td>\n",
              "      <td>2</td>\n",
              "      <td>A</td>\n",
              "      <td>M3</td>\n",
              "      <td>Petrol</td>\n",
              "      <td>91Nm@4250rpm</td>\n",
              "      <td>67.06bhp@5500rpm</td>\n",
              "      <td>1.0 SCe</td>\n",
              "      <td>2</td>\n",
              "      <td>No</td>\n",
              "      <td>No</td>\n",
              "      <td>No</td>\n",
              "      <td>No</td>\n",
              "      <td>Yes</td>\n",
              "      <td>Drum</td>\n",
              "      <td>999</td>\n",
              "      <td>3</td>\n",
              "      <td>Automatic</td>\n",
              "      <td>5</td>\n",
              "      <td>Electric</td>\n",
              "      <td>5.0</td>\n",
              "      <td>3731</td>\n",
              "      <td>1579</td>\n",
              "      <td>1490</td>\n",
              "      <td>1155</td>\n",
              "      <td>No</td>\n",
              "      <td>No</td>\n",
              "      <td>No</td>\n",
              "      <td>No</td>\n",
              "      <td>No</td>\n",
              "      <td>Yes</td>\n",
              "      <td>Yes</td>\n",
              "      <td>Yes</td>\n",
              "      <td>No</td>\n",
              "      <td>Yes</td>\n",
              "      <td>Yes</td>\n",
              "      <td>Yes</td>\n",
              "      <td>2</td>\n",
              "      <td>0</td>\n",
              "    </tr>\n",
              "  </tbody>\n",
              "</table>\n",
              "</div>\n",
              "      <button class=\"colab-df-convert\" onclick=\"convertToInteractive('df-cc516af3-99d7-49f2-8a6c-e05e661cc9dd')\"\n",
              "              title=\"Convert this dataframe to an interactive table.\"\n",
              "              style=\"display:none;\">\n",
              "        \n",
              "  <svg xmlns=\"http://www.w3.org/2000/svg\" height=\"24px\"viewBox=\"0 0 24 24\"\n",
              "       width=\"24px\">\n",
              "    <path d=\"M0 0h24v24H0V0z\" fill=\"none\"/>\n",
              "    <path d=\"M18.56 5.44l.94 2.06.94-2.06 2.06-.94-2.06-.94-.94-2.06-.94 2.06-2.06.94zm-11 1L8.5 8.5l.94-2.06 2.06-.94-2.06-.94L8.5 2.5l-.94 2.06-2.06.94zm10 10l.94 2.06.94-2.06 2.06-.94-2.06-.94-.94-2.06-.94 2.06-2.06.94z\"/><path d=\"M17.41 7.96l-1.37-1.37c-.4-.4-.92-.59-1.43-.59-.52 0-1.04.2-1.43.59L10.3 9.45l-7.72 7.72c-.78.78-.78 2.05 0 2.83L4 21.41c.39.39.9.59 1.41.59.51 0 1.02-.2 1.41-.59l7.78-7.78 2.81-2.81c.8-.78.8-2.07 0-2.86zM5.41 20L4 18.59l7.72-7.72 1.47 1.35L5.41 20z\"/>\n",
              "  </svg>\n",
              "      </button>\n",
              "      \n",
              "  <style>\n",
              "    .colab-df-container {\n",
              "      display:flex;\n",
              "      flex-wrap:wrap;\n",
              "      gap: 12px;\n",
              "    }\n",
              "\n",
              "    .colab-df-convert {\n",
              "      background-color: #E8F0FE;\n",
              "      border: none;\n",
              "      border-radius: 50%;\n",
              "      cursor: pointer;\n",
              "      display: none;\n",
              "      fill: #1967D2;\n",
              "      height: 32px;\n",
              "      padding: 0 0 0 0;\n",
              "      width: 32px;\n",
              "    }\n",
              "\n",
              "    .colab-df-convert:hover {\n",
              "      background-color: #E2EBFA;\n",
              "      box-shadow: 0px 1px 2px rgba(60, 64, 67, 0.3), 0px 1px 3px 1px rgba(60, 64, 67, 0.15);\n",
              "      fill: #174EA6;\n",
              "    }\n",
              "\n",
              "    [theme=dark] .colab-df-convert {\n",
              "      background-color: #3B4455;\n",
              "      fill: #D2E3FC;\n",
              "    }\n",
              "\n",
              "    [theme=dark] .colab-df-convert:hover {\n",
              "      background-color: #434B5C;\n",
              "      box-shadow: 0px 1px 3px 1px rgba(0, 0, 0, 0.15);\n",
              "      filter: drop-shadow(0px 1px 2px rgba(0, 0, 0, 0.3));\n",
              "      fill: #FFFFFF;\n",
              "    }\n",
              "  </style>\n",
              "\n",
              "      <script>\n",
              "        const buttonEl =\n",
              "          document.querySelector('#df-cc516af3-99d7-49f2-8a6c-e05e661cc9dd button.colab-df-convert');\n",
              "        buttonEl.style.display =\n",
              "          google.colab.kernel.accessAllowed ? 'block' : 'none';\n",
              "\n",
              "        async function convertToInteractive(key) {\n",
              "          const element = document.querySelector('#df-cc516af3-99d7-49f2-8a6c-e05e661cc9dd');\n",
              "          const dataTable =\n",
              "            await google.colab.kernel.invokeFunction('convertToInteractive',\n",
              "                                                     [key], {});\n",
              "          if (!dataTable) return;\n",
              "\n",
              "          const docLinkHtml = 'Like what you see? Visit the ' +\n",
              "            '<a target=\"_blank\" href=https://colab.research.google.com/notebooks/data_table.ipynb>data table notebook</a>'\n",
              "            + ' to learn more about interactive tables.';\n",
              "          element.innerHTML = '';\n",
              "          dataTable['output_type'] = 'display_data';\n",
              "          await google.colab.output.renderOutput(dataTable, element);\n",
              "          const docLink = document.createElement('div');\n",
              "          docLink.innerHTML = docLinkHtml;\n",
              "          element.appendChild(docLink);\n",
              "        }\n",
              "      </script>\n",
              "    </div>\n",
              "  </div>\n",
              "  "
            ]
          },
          "metadata": {},
          "execution_count": 73
        }
      ]
    },
    {
      "cell_type": "code",
      "source": [
        "test.head()"
      ],
      "metadata": {
        "colab": {
          "base_uri": "https://localhost:8080/",
          "height": 340
        },
        "id": "GkLkUJ1ed-Kl",
        "outputId": "a3ea937b-22ad-4208-9c0f-bba7c87dd237"
      },
      "execution_count": 74,
      "outputs": [
        {
          "output_type": "execute_result",
          "data": {
            "text/plain": [
              "  policy_id  policy_tenure  age_of_car  age_of_policyholder area_cluster  \\\n",
              "0   ID58593       0.341732        0.00             0.586538           C3   \n",
              "1   ID58594       0.307241        0.13             0.442308           C8   \n",
              "2   ID58595       0.327924        0.12             0.451923           C8   \n",
              "3   ID58596       0.782654        0.01             0.461538           C5   \n",
              "4   ID58597       1.233404        0.02             0.634615           C5   \n",
              "\n",
              "   population_density  make segment model fuel_type     max_torque  \\\n",
              "0                4076     1       A    M1       CNG   60Nm@3500rpm   \n",
              "1                8794     1      B2    M6    Petrol  113Nm@4400rpm   \n",
              "2                8794     2       A    M3    Petrol   91Nm@4250rpm   \n",
              "3               34738     1       A    M1       CNG   60Nm@3500rpm   \n",
              "4               34738     1       A    M1       CNG   60Nm@3500rpm   \n",
              "\n",
              "          max_power        engine_type  airbags is_esc is_adjustable_steering  \\\n",
              "0  40.36bhp@6000rpm  F8D Petrol Engine        2     No                     No   \n",
              "1  88.50bhp@6000rpm  K Series Dual jet        2     No                    Yes   \n",
              "2  67.06bhp@5500rpm            1.0 SCe        2     No                     No   \n",
              "3  40.36bhp@6000rpm  F8D Petrol Engine        2     No                     No   \n",
              "4  40.36bhp@6000rpm  F8D Petrol Engine        2     No                     No   \n",
              "\n",
              "  is_tpms is_parking_sensors is_parking_camera rear_brakes_type  displacement  \\\n",
              "0      No                Yes                No             Drum           796   \n",
              "1      No                Yes                No             Drum          1197   \n",
              "2      No                 No               Yes             Drum           999   \n",
              "3      No                Yes                No             Drum           796   \n",
              "4      No                Yes                No             Drum           796   \n",
              "\n",
              "   cylinder transmission_type  gear_box steering_type  turning_radius  length  \\\n",
              "0         3            Manual         5         Power             4.6    3445   \n",
              "1         4            Manual         5      Electric             4.8    3845   \n",
              "2         3         Automatic         5      Electric             5.0    3731   \n",
              "3         3            Manual         5         Power             4.6    3445   \n",
              "4         3            Manual         5         Power             4.6    3445   \n",
              "\n",
              "   width  height  gross_weight is_front_fog_lights is_rear_window_wiper  \\\n",
              "0   1515    1475          1185                  No                   No   \n",
              "1   1735    1530          1335                 Yes                   No   \n",
              "2   1579    1490          1155                  No                   No   \n",
              "3   1515    1475          1185                  No                   No   \n",
              "4   1515    1475          1185                  No                   No   \n",
              "\n",
              "  is_rear_window_washer is_rear_window_defogger is_brake_assist  \\\n",
              "0                    No                      No              No   \n",
              "1                    No                      No             Yes   \n",
              "2                    No                      No              No   \n",
              "3                    No                      No              No   \n",
              "4                    No                      No              No   \n",
              "\n",
              "  is_power_door_locks is_central_locking is_power_steering  \\\n",
              "0                  No                 No               Yes   \n",
              "1                 Yes                Yes               Yes   \n",
              "2                 Yes                Yes               Yes   \n",
              "3                  No                 No               Yes   \n",
              "4                  No                 No               Yes   \n",
              "\n",
              "  is_driver_seat_height_adjustable is_day_night_rear_view_mirror is_ecw  \\\n",
              "0                               No                            No     No   \n",
              "1                              Yes                           Yes    Yes   \n",
              "2                               No                           Yes    Yes   \n",
              "3                               No                            No     No   \n",
              "4                               No                            No     No   \n",
              "\n",
              "  is_speed_alert  ncap_rating  \n",
              "0            Yes            0  \n",
              "1            Yes            2  \n",
              "2            Yes            2  \n",
              "3            Yes            0  \n",
              "4            Yes            0  "
            ],
            "text/html": [
              "\n",
              "  <div id=\"df-4fb13096-1c85-4007-85b5-969b98be1870\">\n",
              "    <div class=\"colab-df-container\">\n",
              "      <div>\n",
              "<style scoped>\n",
              "    .dataframe tbody tr th:only-of-type {\n",
              "        vertical-align: middle;\n",
              "    }\n",
              "\n",
              "    .dataframe tbody tr th {\n",
              "        vertical-align: top;\n",
              "    }\n",
              "\n",
              "    .dataframe thead th {\n",
              "        text-align: right;\n",
              "    }\n",
              "</style>\n",
              "<table border=\"1\" class=\"dataframe\">\n",
              "  <thead>\n",
              "    <tr style=\"text-align: right;\">\n",
              "      <th></th>\n",
              "      <th>policy_id</th>\n",
              "      <th>policy_tenure</th>\n",
              "      <th>age_of_car</th>\n",
              "      <th>age_of_policyholder</th>\n",
              "      <th>area_cluster</th>\n",
              "      <th>population_density</th>\n",
              "      <th>make</th>\n",
              "      <th>segment</th>\n",
              "      <th>model</th>\n",
              "      <th>fuel_type</th>\n",
              "      <th>max_torque</th>\n",
              "      <th>max_power</th>\n",
              "      <th>engine_type</th>\n",
              "      <th>airbags</th>\n",
              "      <th>is_esc</th>\n",
              "      <th>is_adjustable_steering</th>\n",
              "      <th>is_tpms</th>\n",
              "      <th>is_parking_sensors</th>\n",
              "      <th>is_parking_camera</th>\n",
              "      <th>rear_brakes_type</th>\n",
              "      <th>displacement</th>\n",
              "      <th>cylinder</th>\n",
              "      <th>transmission_type</th>\n",
              "      <th>gear_box</th>\n",
              "      <th>steering_type</th>\n",
              "      <th>turning_radius</th>\n",
              "      <th>length</th>\n",
              "      <th>width</th>\n",
              "      <th>height</th>\n",
              "      <th>gross_weight</th>\n",
              "      <th>is_front_fog_lights</th>\n",
              "      <th>is_rear_window_wiper</th>\n",
              "      <th>is_rear_window_washer</th>\n",
              "      <th>is_rear_window_defogger</th>\n",
              "      <th>is_brake_assist</th>\n",
              "      <th>is_power_door_locks</th>\n",
              "      <th>is_central_locking</th>\n",
              "      <th>is_power_steering</th>\n",
              "      <th>is_driver_seat_height_adjustable</th>\n",
              "      <th>is_day_night_rear_view_mirror</th>\n",
              "      <th>is_ecw</th>\n",
              "      <th>is_speed_alert</th>\n",
              "      <th>ncap_rating</th>\n",
              "    </tr>\n",
              "  </thead>\n",
              "  <tbody>\n",
              "    <tr>\n",
              "      <th>0</th>\n",
              "      <td>ID58593</td>\n",
              "      <td>0.341732</td>\n",
              "      <td>0.00</td>\n",
              "      <td>0.586538</td>\n",
              "      <td>C3</td>\n",
              "      <td>4076</td>\n",
              "      <td>1</td>\n",
              "      <td>A</td>\n",
              "      <td>M1</td>\n",
              "      <td>CNG</td>\n",
              "      <td>60Nm@3500rpm</td>\n",
              "      <td>40.36bhp@6000rpm</td>\n",
              "      <td>F8D Petrol Engine</td>\n",
              "      <td>2</td>\n",
              "      <td>No</td>\n",
              "      <td>No</td>\n",
              "      <td>No</td>\n",
              "      <td>Yes</td>\n",
              "      <td>No</td>\n",
              "      <td>Drum</td>\n",
              "      <td>796</td>\n",
              "      <td>3</td>\n",
              "      <td>Manual</td>\n",
              "      <td>5</td>\n",
              "      <td>Power</td>\n",
              "      <td>4.6</td>\n",
              "      <td>3445</td>\n",
              "      <td>1515</td>\n",
              "      <td>1475</td>\n",
              "      <td>1185</td>\n",
              "      <td>No</td>\n",
              "      <td>No</td>\n",
              "      <td>No</td>\n",
              "      <td>No</td>\n",
              "      <td>No</td>\n",
              "      <td>No</td>\n",
              "      <td>No</td>\n",
              "      <td>Yes</td>\n",
              "      <td>No</td>\n",
              "      <td>No</td>\n",
              "      <td>No</td>\n",
              "      <td>Yes</td>\n",
              "      <td>0</td>\n",
              "    </tr>\n",
              "    <tr>\n",
              "      <th>1</th>\n",
              "      <td>ID58594</td>\n",
              "      <td>0.307241</td>\n",
              "      <td>0.13</td>\n",
              "      <td>0.442308</td>\n",
              "      <td>C8</td>\n",
              "      <td>8794</td>\n",
              "      <td>1</td>\n",
              "      <td>B2</td>\n",
              "      <td>M6</td>\n",
              "      <td>Petrol</td>\n",
              "      <td>113Nm@4400rpm</td>\n",
              "      <td>88.50bhp@6000rpm</td>\n",
              "      <td>K Series Dual jet</td>\n",
              "      <td>2</td>\n",
              "      <td>No</td>\n",
              "      <td>Yes</td>\n",
              "      <td>No</td>\n",
              "      <td>Yes</td>\n",
              "      <td>No</td>\n",
              "      <td>Drum</td>\n",
              "      <td>1197</td>\n",
              "      <td>4</td>\n",
              "      <td>Manual</td>\n",
              "      <td>5</td>\n",
              "      <td>Electric</td>\n",
              "      <td>4.8</td>\n",
              "      <td>3845</td>\n",
              "      <td>1735</td>\n",
              "      <td>1530</td>\n",
              "      <td>1335</td>\n",
              "      <td>Yes</td>\n",
              "      <td>No</td>\n",
              "      <td>No</td>\n",
              "      <td>No</td>\n",
              "      <td>Yes</td>\n",
              "      <td>Yes</td>\n",
              "      <td>Yes</td>\n",
              "      <td>Yes</td>\n",
              "      <td>Yes</td>\n",
              "      <td>Yes</td>\n",
              "      <td>Yes</td>\n",
              "      <td>Yes</td>\n",
              "      <td>2</td>\n",
              "    </tr>\n",
              "    <tr>\n",
              "      <th>2</th>\n",
              "      <td>ID58595</td>\n",
              "      <td>0.327924</td>\n",
              "      <td>0.12</td>\n",
              "      <td>0.451923</td>\n",
              "      <td>C8</td>\n",
              "      <td>8794</td>\n",
              "      <td>2</td>\n",
              "      <td>A</td>\n",
              "      <td>M3</td>\n",
              "      <td>Petrol</td>\n",
              "      <td>91Nm@4250rpm</td>\n",
              "      <td>67.06bhp@5500rpm</td>\n",
              "      <td>1.0 SCe</td>\n",
              "      <td>2</td>\n",
              "      <td>No</td>\n",
              "      <td>No</td>\n",
              "      <td>No</td>\n",
              "      <td>No</td>\n",
              "      <td>Yes</td>\n",
              "      <td>Drum</td>\n",
              "      <td>999</td>\n",
              "      <td>3</td>\n",
              "      <td>Automatic</td>\n",
              "      <td>5</td>\n",
              "      <td>Electric</td>\n",
              "      <td>5.0</td>\n",
              "      <td>3731</td>\n",
              "      <td>1579</td>\n",
              "      <td>1490</td>\n",
              "      <td>1155</td>\n",
              "      <td>No</td>\n",
              "      <td>No</td>\n",
              "      <td>No</td>\n",
              "      <td>No</td>\n",
              "      <td>No</td>\n",
              "      <td>Yes</td>\n",
              "      <td>Yes</td>\n",
              "      <td>Yes</td>\n",
              "      <td>No</td>\n",
              "      <td>Yes</td>\n",
              "      <td>Yes</td>\n",
              "      <td>Yes</td>\n",
              "      <td>2</td>\n",
              "    </tr>\n",
              "    <tr>\n",
              "      <th>3</th>\n",
              "      <td>ID58596</td>\n",
              "      <td>0.782654</td>\n",
              "      <td>0.01</td>\n",
              "      <td>0.461538</td>\n",
              "      <td>C5</td>\n",
              "      <td>34738</td>\n",
              "      <td>1</td>\n",
              "      <td>A</td>\n",
              "      <td>M1</td>\n",
              "      <td>CNG</td>\n",
              "      <td>60Nm@3500rpm</td>\n",
              "      <td>40.36bhp@6000rpm</td>\n",
              "      <td>F8D Petrol Engine</td>\n",
              "      <td>2</td>\n",
              "      <td>No</td>\n",
              "      <td>No</td>\n",
              "      <td>No</td>\n",
              "      <td>Yes</td>\n",
              "      <td>No</td>\n",
              "      <td>Drum</td>\n",
              "      <td>796</td>\n",
              "      <td>3</td>\n",
              "      <td>Manual</td>\n",
              "      <td>5</td>\n",
              "      <td>Power</td>\n",
              "      <td>4.6</td>\n",
              "      <td>3445</td>\n",
              "      <td>1515</td>\n",
              "      <td>1475</td>\n",
              "      <td>1185</td>\n",
              "      <td>No</td>\n",
              "      <td>No</td>\n",
              "      <td>No</td>\n",
              "      <td>No</td>\n",
              "      <td>No</td>\n",
              "      <td>No</td>\n",
              "      <td>No</td>\n",
              "      <td>Yes</td>\n",
              "      <td>No</td>\n",
              "      <td>No</td>\n",
              "      <td>No</td>\n",
              "      <td>Yes</td>\n",
              "      <td>0</td>\n",
              "    </tr>\n",
              "    <tr>\n",
              "      <th>4</th>\n",
              "      <td>ID58597</td>\n",
              "      <td>1.233404</td>\n",
              "      <td>0.02</td>\n",
              "      <td>0.634615</td>\n",
              "      <td>C5</td>\n",
              "      <td>34738</td>\n",
              "      <td>1</td>\n",
              "      <td>A</td>\n",
              "      <td>M1</td>\n",
              "      <td>CNG</td>\n",
              "      <td>60Nm@3500rpm</td>\n",
              "      <td>40.36bhp@6000rpm</td>\n",
              "      <td>F8D Petrol Engine</td>\n",
              "      <td>2</td>\n",
              "      <td>No</td>\n",
              "      <td>No</td>\n",
              "      <td>No</td>\n",
              "      <td>Yes</td>\n",
              "      <td>No</td>\n",
              "      <td>Drum</td>\n",
              "      <td>796</td>\n",
              "      <td>3</td>\n",
              "      <td>Manual</td>\n",
              "      <td>5</td>\n",
              "      <td>Power</td>\n",
              "      <td>4.6</td>\n",
              "      <td>3445</td>\n",
              "      <td>1515</td>\n",
              "      <td>1475</td>\n",
              "      <td>1185</td>\n",
              "      <td>No</td>\n",
              "      <td>No</td>\n",
              "      <td>No</td>\n",
              "      <td>No</td>\n",
              "      <td>No</td>\n",
              "      <td>No</td>\n",
              "      <td>No</td>\n",
              "      <td>Yes</td>\n",
              "      <td>No</td>\n",
              "      <td>No</td>\n",
              "      <td>No</td>\n",
              "      <td>Yes</td>\n",
              "      <td>0</td>\n",
              "    </tr>\n",
              "  </tbody>\n",
              "</table>\n",
              "</div>\n",
              "      <button class=\"colab-df-convert\" onclick=\"convertToInteractive('df-4fb13096-1c85-4007-85b5-969b98be1870')\"\n",
              "              title=\"Convert this dataframe to an interactive table.\"\n",
              "              style=\"display:none;\">\n",
              "        \n",
              "  <svg xmlns=\"http://www.w3.org/2000/svg\" height=\"24px\"viewBox=\"0 0 24 24\"\n",
              "       width=\"24px\">\n",
              "    <path d=\"M0 0h24v24H0V0z\" fill=\"none\"/>\n",
              "    <path d=\"M18.56 5.44l.94 2.06.94-2.06 2.06-.94-2.06-.94-.94-2.06-.94 2.06-2.06.94zm-11 1L8.5 8.5l.94-2.06 2.06-.94-2.06-.94L8.5 2.5l-.94 2.06-2.06.94zm10 10l.94 2.06.94-2.06 2.06-.94-2.06-.94-.94-2.06-.94 2.06-2.06.94z\"/><path d=\"M17.41 7.96l-1.37-1.37c-.4-.4-.92-.59-1.43-.59-.52 0-1.04.2-1.43.59L10.3 9.45l-7.72 7.72c-.78.78-.78 2.05 0 2.83L4 21.41c.39.39.9.59 1.41.59.51 0 1.02-.2 1.41-.59l7.78-7.78 2.81-2.81c.8-.78.8-2.07 0-2.86zM5.41 20L4 18.59l7.72-7.72 1.47 1.35L5.41 20z\"/>\n",
              "  </svg>\n",
              "      </button>\n",
              "      \n",
              "  <style>\n",
              "    .colab-df-container {\n",
              "      display:flex;\n",
              "      flex-wrap:wrap;\n",
              "      gap: 12px;\n",
              "    }\n",
              "\n",
              "    .colab-df-convert {\n",
              "      background-color: #E8F0FE;\n",
              "      border: none;\n",
              "      border-radius: 50%;\n",
              "      cursor: pointer;\n",
              "      display: none;\n",
              "      fill: #1967D2;\n",
              "      height: 32px;\n",
              "      padding: 0 0 0 0;\n",
              "      width: 32px;\n",
              "    }\n",
              "\n",
              "    .colab-df-convert:hover {\n",
              "      background-color: #E2EBFA;\n",
              "      box-shadow: 0px 1px 2px rgba(60, 64, 67, 0.3), 0px 1px 3px 1px rgba(60, 64, 67, 0.15);\n",
              "      fill: #174EA6;\n",
              "    }\n",
              "\n",
              "    [theme=dark] .colab-df-convert {\n",
              "      background-color: #3B4455;\n",
              "      fill: #D2E3FC;\n",
              "    }\n",
              "\n",
              "    [theme=dark] .colab-df-convert:hover {\n",
              "      background-color: #434B5C;\n",
              "      box-shadow: 0px 1px 3px 1px rgba(0, 0, 0, 0.15);\n",
              "      filter: drop-shadow(0px 1px 2px rgba(0, 0, 0, 0.3));\n",
              "      fill: #FFFFFF;\n",
              "    }\n",
              "  </style>\n",
              "\n",
              "      <script>\n",
              "        const buttonEl =\n",
              "          document.querySelector('#df-4fb13096-1c85-4007-85b5-969b98be1870 button.colab-df-convert');\n",
              "        buttonEl.style.display =\n",
              "          google.colab.kernel.accessAllowed ? 'block' : 'none';\n",
              "\n",
              "        async function convertToInteractive(key) {\n",
              "          const element = document.querySelector('#df-4fb13096-1c85-4007-85b5-969b98be1870');\n",
              "          const dataTable =\n",
              "            await google.colab.kernel.invokeFunction('convertToInteractive',\n",
              "                                                     [key], {});\n",
              "          if (!dataTable) return;\n",
              "\n",
              "          const docLinkHtml = 'Like what you see? Visit the ' +\n",
              "            '<a target=\"_blank\" href=https://colab.research.google.com/notebooks/data_table.ipynb>data table notebook</a>'\n",
              "            + ' to learn more about interactive tables.';\n",
              "          element.innerHTML = '';\n",
              "          dataTable['output_type'] = 'display_data';\n",
              "          await google.colab.output.renderOutput(dataTable, element);\n",
              "          const docLink = document.createElement('div');\n",
              "          docLink.innerHTML = docLinkHtml;\n",
              "          element.appendChild(docLink);\n",
              "        }\n",
              "      </script>\n",
              "    </div>\n",
              "  </div>\n",
              "  "
            ]
          },
          "metadata": {},
          "execution_count": 74
        }
      ]
    },
    {
      "cell_type": "code",
      "source": [
        "train.info()"
      ],
      "metadata": {
        "colab": {
          "base_uri": "https://localhost:8080/"
        },
        "id": "eMOsu2IKdwj3",
        "outputId": "06cf7298-30d2-4132-d0e5-dbaf893dc505"
      },
      "execution_count": 75,
      "outputs": [
        {
          "output_type": "stream",
          "name": "stdout",
          "text": [
            "<class 'pandas.core.frame.DataFrame'>\n",
            "RangeIndex: 58592 entries, 0 to 58591\n",
            "Data columns (total 44 columns):\n",
            " #   Column                            Non-Null Count  Dtype  \n",
            "---  ------                            --------------  -----  \n",
            " 0   policy_id                         58592 non-null  object \n",
            " 1   policy_tenure                     58592 non-null  float64\n",
            " 2   age_of_car                        58592 non-null  float64\n",
            " 3   age_of_policyholder               58592 non-null  float64\n",
            " 4   area_cluster                      58592 non-null  object \n",
            " 5   population_density                58592 non-null  int64  \n",
            " 6   make                              58592 non-null  int64  \n",
            " 7   segment                           58592 non-null  object \n",
            " 8   model                             58592 non-null  object \n",
            " 9   fuel_type                         58592 non-null  object \n",
            " 10  max_torque                        58592 non-null  object \n",
            " 11  max_power                         58592 non-null  object \n",
            " 12  engine_type                       58592 non-null  object \n",
            " 13  airbags                           58592 non-null  int64  \n",
            " 14  is_esc                            58592 non-null  object \n",
            " 15  is_adjustable_steering            58592 non-null  object \n",
            " 16  is_tpms                           58592 non-null  object \n",
            " 17  is_parking_sensors                58592 non-null  object \n",
            " 18  is_parking_camera                 58592 non-null  object \n",
            " 19  rear_brakes_type                  58592 non-null  object \n",
            " 20  displacement                      58592 non-null  int64  \n",
            " 21  cylinder                          58592 non-null  int64  \n",
            " 22  transmission_type                 58592 non-null  object \n",
            " 23  gear_box                          58592 non-null  int64  \n",
            " 24  steering_type                     58592 non-null  object \n",
            " 25  turning_radius                    58592 non-null  float64\n",
            " 26  length                            58592 non-null  int64  \n",
            " 27  width                             58592 non-null  int64  \n",
            " 28  height                            58592 non-null  int64  \n",
            " 29  gross_weight                      58592 non-null  int64  \n",
            " 30  is_front_fog_lights               58592 non-null  object \n",
            " 31  is_rear_window_wiper              58592 non-null  object \n",
            " 32  is_rear_window_washer             58592 non-null  object \n",
            " 33  is_rear_window_defogger           58592 non-null  object \n",
            " 34  is_brake_assist                   58592 non-null  object \n",
            " 35  is_power_door_locks               58592 non-null  object \n",
            " 36  is_central_locking                58592 non-null  object \n",
            " 37  is_power_steering                 58592 non-null  object \n",
            " 38  is_driver_seat_height_adjustable  58592 non-null  object \n",
            " 39  is_day_night_rear_view_mirror     58592 non-null  object \n",
            " 40  is_ecw                            58592 non-null  object \n",
            " 41  is_speed_alert                    58592 non-null  object \n",
            " 42  ncap_rating                       58592 non-null  int64  \n",
            " 43  is_claim                          58592 non-null  int64  \n",
            "dtypes: float64(4), int64(12), object(28)\n",
            "memory usage: 19.7+ MB\n"
          ]
        }
      ]
    },
    {
      "cell_type": "code",
      "source": [
        "test.info()"
      ],
      "metadata": {
        "colab": {
          "base_uri": "https://localhost:8080/"
        },
        "id": "8J67GRuLd2Wx",
        "outputId": "dcbcbed6-6016-4520-c2b3-aba01520f102"
      },
      "execution_count": 76,
      "outputs": [
        {
          "output_type": "stream",
          "name": "stdout",
          "text": [
            "<class 'pandas.core.frame.DataFrame'>\n",
            "RangeIndex: 39063 entries, 0 to 39062\n",
            "Data columns (total 43 columns):\n",
            " #   Column                            Non-Null Count  Dtype  \n",
            "---  ------                            --------------  -----  \n",
            " 0   policy_id                         39063 non-null  object \n",
            " 1   policy_tenure                     39063 non-null  float64\n",
            " 2   age_of_car                        39063 non-null  float64\n",
            " 3   age_of_policyholder               39063 non-null  float64\n",
            " 4   area_cluster                      39063 non-null  object \n",
            " 5   population_density                39063 non-null  int64  \n",
            " 6   make                              39063 non-null  int64  \n",
            " 7   segment                           39063 non-null  object \n",
            " 8   model                             39063 non-null  object \n",
            " 9   fuel_type                         39063 non-null  object \n",
            " 10  max_torque                        39063 non-null  object \n",
            " 11  max_power                         39063 non-null  object \n",
            " 12  engine_type                       39063 non-null  object \n",
            " 13  airbags                           39063 non-null  int64  \n",
            " 14  is_esc                            39063 non-null  object \n",
            " 15  is_adjustable_steering            39063 non-null  object \n",
            " 16  is_tpms                           39063 non-null  object \n",
            " 17  is_parking_sensors                39063 non-null  object \n",
            " 18  is_parking_camera                 39063 non-null  object \n",
            " 19  rear_brakes_type                  39063 non-null  object \n",
            " 20  displacement                      39063 non-null  int64  \n",
            " 21  cylinder                          39063 non-null  int64  \n",
            " 22  transmission_type                 39063 non-null  object \n",
            " 23  gear_box                          39063 non-null  int64  \n",
            " 24  steering_type                     39063 non-null  object \n",
            " 25  turning_radius                    39063 non-null  float64\n",
            " 26  length                            39063 non-null  int64  \n",
            " 27  width                             39063 non-null  int64  \n",
            " 28  height                            39063 non-null  int64  \n",
            " 29  gross_weight                      39063 non-null  int64  \n",
            " 30  is_front_fog_lights               39063 non-null  object \n",
            " 31  is_rear_window_wiper              39063 non-null  object \n",
            " 32  is_rear_window_washer             39063 non-null  object \n",
            " 33  is_rear_window_defogger           39063 non-null  object \n",
            " 34  is_brake_assist                   39063 non-null  object \n",
            " 35  is_power_door_locks               39063 non-null  object \n",
            " 36  is_central_locking                39063 non-null  object \n",
            " 37  is_power_steering                 39063 non-null  object \n",
            " 38  is_driver_seat_height_adjustable  39063 non-null  object \n",
            " 39  is_day_night_rear_view_mirror     39063 non-null  object \n",
            " 40  is_ecw                            39063 non-null  object \n",
            " 41  is_speed_alert                    39063 non-null  object \n",
            " 42  ncap_rating                       39063 non-null  int64  \n",
            "dtypes: float64(4), int64(11), object(28)\n",
            "memory usage: 12.8+ MB\n"
          ]
        }
      ]
    },
    {
      "cell_type": "code",
      "source": [
        "#This shows the data set is heavily imbalanced\n",
        "train['is_claim'].value_counts()/train.shape[0] * 100"
      ],
      "metadata": {
        "colab": {
          "base_uri": "https://localhost:8080/"
        },
        "id": "j7sURqBPdnCm",
        "outputId": "63887177-39f9-440d-f5c8-39546714d3db"
      },
      "execution_count": 78,
      "outputs": [
        {
          "output_type": "execute_result",
          "data": {
            "text/plain": [
              "0    93.603222\n",
              "1     6.396778\n",
              "Name: is_claim, dtype: float64"
            ]
          },
          "metadata": {},
          "execution_count": 78
        }
      ]
    },
    {
      "cell_type": "code",
      "source": [
        "sns.barplot(x = [0, 1], y = [54844, 3784])"
      ],
      "metadata": {
        "colab": {
          "base_uri": "https://localhost:8080/",
          "height": 282
        },
        "id": "ig57ORs_dofb",
        "outputId": "4fb6c7db-4256-4ebb-fa42-0fb48b1e951c"
      },
      "execution_count": 77,
      "outputs": [
        {
          "output_type": "execute_result",
          "data": {
            "text/plain": [
              "<matplotlib.axes._subplots.AxesSubplot at 0x7f631d4b8580>"
            ]
          },
          "metadata": {},
          "execution_count": 77
        },
        {
          "output_type": "display_data",
          "data": {
            "text/plain": [
              "<Figure size 432x288 with 1 Axes>"
            ],
            "image/png": "[encoded data removed]"
          },
          "metadata": {
            "needs_background": "light"
          }
        }
      ]
    },
    {
      "cell_type": "code",
      "source": [
        "train[\"policy_id\"].duplicated().sum()"
      ],
      "metadata": {
        "colab": {
          "base_uri": "https://localhost:8080/"
        },
        "id": "mNKFWLPFgGBr",
        "outputId": "9c2771cc-697f-4f59-8d2d-32cfe54eccb0"
      },
      "execution_count": 79,
      "outputs": [
        {
          "output_type": "execute_result",
          "data": {
            "text/plain": [
              "0"
            ]
          },
          "metadata": {},
          "execution_count": 79
        }
      ]
    },
    {
      "cell_type": "code",
      "source": [
        "data = train.set_index(\"policy_id\")"
      ],
      "metadata": {
        "id": "1pJX2187gRxR"
      },
      "execution_count": 81,
      "outputs": []
    },
    {
      "cell_type": "code",
      "source": [
        "def data_solver_strings(data):\n",
        "\n",
        "    data[\"max_torque_Nm\"] = data[\"max_torque\"].str.extract(r\"([-+]?[0-9]*\\.?[0-9]+)(?=\\s*Nm)\").astype('float64')\n",
        "    data[\"max_torque_rpm\"] = data[\"max_torque\"].str.extract(r\"([-+]?[0-9]*\\.?[0-9]+)(?=\\s*rpm)\").astype('float64')\n",
        "    \n",
        "    data[\"max_power_bhp\"] = data[\"max_power\"].str.extract(r\"([-+]?[0-9]*\\.?[0-9]+)(?=\\s*bhp)\").astype('float64')\n",
        "    data[\"max_power_rpm\"] = data[\"max_power\"].str.extract(r\"([-+]?[0-9]*\\.?[0-9]+)(?=\\s*rpm)\").astype('float64')\n",
        "\n",
        "    data.drop([\"max_torque\",\"max_power\"], axis=1, inplace=True)\n",
        "\n",
        "data_solver_strings(data)"
      ],
      "metadata": {
        "id": "9TLajhMDgYPS"
      },
      "execution_count": 82,
      "outputs": []
    },
    {
      "cell_type": "code",
      "source": [
        "fig, ax = plt.subplots(figsize=(10,10))\n",
        "sns.heatmap(data.corr(), annot=True, fmt=\".2f\", ax=ax )\n",
        "plt.title(\"Correlation map\")\n",
        "plt.show()"
      ],
      "metadata": {
        "colab": {
          "base_uri": "https://localhost:8080/",
          "height": 697
        },
        "id": "S96JQu0zggQ1",
        "outputId": "c4a2434d-1556-48bf-c590-5b907891a047"
      },
      "execution_count": 83,
      "outputs": [
        {
          "output_type": "display_data",
          "data": {
            "text/plain": [
              "<Figure size 720x720 with 2 Axes>"
            ],
            "image/png": "[encoded data removed]"
          },
          "metadata": {
            "needs_background": "light"
          }
        }
      ]
    },
    {
      "cell_type": "code",
      "source": [
        "# TARGET  BALANCE \n",
        "train[\"is_claim\"].value_counts(normalize=True).plot(kind=\"bar\")\n",
        "plt.ylabel(\"Relative Frequency\")\n",
        "plt.xlabel(\"Target\")\n",
        "plt.title(\"Target Balance\");"
      ],
      "metadata": {
        "colab": {
          "base_uri": "https://localhost:8080/",
          "height": 292
        },
        "id": "2tkNJhShq0Sg",
        "outputId": "71c17009-3cd8-4a08-ad9b-df8eff8e4f76"
      },
      "execution_count": 85,
      "outputs": [
        {
          "output_type": "display_data",
          "data": {
            "text/plain": [
              "<Figure size 432x288 with 1 Axes>"
            ],
            "image/png": "[encoded data removed]"
          },
          "metadata": {
            "needs_background": "light"
          }
        }
      ]
    },
    {
      "cell_type": "code",
      "source": [
        "# checking for outliers\n",
        "sns.distplot(train[\"policy_tenure\"]);"
      ],
      "metadata": {
        "colab": {
          "base_uri": "https://localhost:8080/",
          "height": 335
        },
        "id": "qA7UsPbTk4wr",
        "outputId": "ca63c5eb-a1ab-4079-ba78-86271e144682"
      },
      "execution_count": 105,
      "outputs": [
        {
          "output_type": "stream",
          "name": "stderr",
          "text": [
            "/usr/local/lib/python3.8/dist-packages/seaborn/distributions.py:2619: FutureWarning: `distplot` is a deprecated function and will be removed in a future version. Please adapt your code to use either `displot` (a figure-level function with similar flexibility) or `histplot` (an axes-level function for histograms).\n",
            "  warnings.warn(msg, FutureWarning)\n"
          ]
        },
        {
          "output_type": "display_data",
          "data": {
            "text/plain": [
              "<Figure size 432x288 with 1 Axes>"
            ],
            "image/png": "[encoded data removed]"
          },
          "metadata": {
            "needs_background": "light"
          }
        }
      ]
    },
    {
      "cell_type": "code",
      "source": [
        "# Numbers of segments based on cliams\n",
        "\n",
        "ffg = train.groupby(\"is_claim\")[\"segment\"].value_counts().rename(\"Frequency\").to_frame().reset_index()\n",
        "sns.barplot(x=\"is_claim\",\n",
        "           y=\"Frequency\",\n",
        "           hue=\"segment\",\n",
        "           data=ffg)\n",
        "plt.xlabel(\"Claim Insurance\")\n",
        "plt.ylabel(\"Frequnecy\")\n",
        "plt.title(\"Numbers of sectors based on claims\");"
      ],
      "metadata": {
        "colab": {
          "base_uri": "https://localhost:8080/",
          "height": 295
        },
        "id": "NUEjStFITh3S",
        "outputId": "0d95ec62-2703-4799-8798-603be30f8c53"
      },
      "execution_count": 86,
      "outputs": [
        {
          "output_type": "display_data",
          "data": {
            "text/plain": [
              "<Figure size 432x288 with 1 Axes>"
            ],
            "image/png": "[encoded data removed]"
          },
          "metadata": {
            "needs_background": "light"
          }
        }
      ]
    },
    {
      "cell_type": "code",
      "source": [
        "## distribution of average age by model\n",
        "train.groupby(\"model\")[\"age_of_car\"].mean().sort_values().plot(kind=\"bar\")\n",
        "plt.xlabel(\"Models\")\n",
        "plt.ylabel(\"Average Age\")\n",
        "plt.title(\"Distribution of average age by model\");"
      ],
      "metadata": {
        "colab": {
          "base_uri": "https://localhost:8080/",
          "height": 307
        },
        "id": "7nqmXNCuV9G4",
        "outputId": "330710d3-ecf6-4bec-c778-42e043dc3530"
      },
      "execution_count": 87,
      "outputs": [
        {
          "output_type": "display_data",
          "data": {
            "text/plain": [
              "<Figure size 432x288 with 1 Axes>"
            ],
            "image/png": "[encoded data removed]"
          },
          "metadata": {
            "needs_background": "light"
          }
        }
      ]
    },
    {
      "cell_type": "code",
      "source": [
        "target = \"is_claim\"\n",
        "X = train.drop(target, axis=1)\n",
        "y = train[target]\n",
        "print(X.shape, y.shape)"
      ],
      "metadata": {
        "colab": {
          "base_uri": "https://localhost:8080/"
        },
        "id": "e38p9J5nWXtn",
        "outputId": "6df971f8-3389-45bf-c210-88be25b9b75a"
      },
      "execution_count": 88,
      "outputs": [
        {
          "output_type": "stream",
          "name": "stdout",
          "text": [
            "(58592, 43) (58592,)\n"
          ]
        }
      ]
    },
    {
      "cell_type": "code",
      "source": [
        "X_train,X_test, y_train, y_test = train_test_split(X,y, test_size=0.2, random_state=1)"
      ],
      "metadata": {
        "id": "6Vphla6pWcnr"
      },
      "execution_count": 89,
      "outputs": []
    },
    {
      "cell_type": "code",
      "source": [
        "from imblearn.over_sampling import RandomOverSampler\n",
        "sampler = RandomOverSampler(random_state=1)\n",
        "X_train_over, y_train_over = sampler.fit_resample(X_train,y_train)\n",
        "print(X_train_over.shape, y_train_over.shape)"
      ],
      "metadata": {
        "colab": {
          "base_uri": "https://localhost:8080/"
        },
        "id": "guzeoltPWgZc",
        "outputId": "4ab2ddbc-dfe1-4850-f5a7-3bdbf3c92240"
      },
      "execution_count": 90,
      "outputs": [
        {
          "output_type": "stream",
          "name": "stdout",
          "text": [
            "(87764, 43) (87764,)\n"
          ]
        }
      ]
    },
    {
      "cell_type": "code",
      "source": [
        "model_baseline = y_train.value_counts(normalize=True).max()\n",
        "model_baseline"
      ],
      "metadata": {
        "colab": {
          "base_uri": "https://localhost:8080/"
        },
        "id": "RP58T41XWltZ",
        "outputId": "ac2bd039-7afb-4871-bbf7-30cf2d72882c"
      },
      "execution_count": 91,
      "outputs": [
        {
          "output_type": "execute_result",
          "data": {
            "text/plain": [
              "0.9361892774091695"
            ]
          },
          "metadata": {},
          "execution_count": 91
        }
      ]
    },
    {
      "cell_type": "code",
      "source": [
        "def vif_check(data_check):\n",
        "    vif_data = pd.DataFrame()\n",
        "    vif_data[\"feature\"] = data_check.columns\n",
        "  \n",
        "    # calculating VIF for each feature\n",
        "    vif_data[\"VIF\"] = [variance_inflation_factor(data_check.values, i)\n",
        "                          for i in range(len(data_check.columns))]\n",
        "  \n",
        "    return vif_data.sort_values(\"VIF\", ascending=False).reset_index()"
      ],
      "metadata": {
        "id": "k6XTfVkogeFx"
      },
      "execution_count": 92,
      "outputs": []
    },
    {
      "cell_type": "code",
      "source": [
        "data_check = data.select_dtypes(exclude=[\"object\"]).drop(\"is_claim\", axis=1)\n",
        "\n",
        "#cycle which returns features having VIF < 5, or Featues with low correlation\n",
        "while vif_check(data_check)[\"VIF\"][0] > 5:\n",
        "    data_check.drop(vif_check(data_check)[\"feature\"][0], axis=1, inplace=True)\n",
        "feature_vif_table = vif_check(data_check)\n",
        "\n",
        "feature_vif_table"
      ],
      "metadata": {
        "colab": {
          "base_uri": "https://localhost:8080/",
          "height": 261
        },
        "id": "u8dp4-98goaJ",
        "outputId": "c28d5641-b6f4-4472-9cdf-777dc1d2ff00"
      },
      "execution_count": 93,
      "outputs": [
        {
          "output_type": "stream",
          "name": "stderr",
          "text": [
            "/usr/local/lib/python3.8/dist-packages/statsmodels/stats/outliers_influence.py:193: RuntimeWarning: divide by zero encountered in double_scalars\n",
            "  vif = 1. / (1. - r_squared_i)\n"
          ]
        },
        {
          "output_type": "execute_result",
          "data": {
            "text/plain": [
              "   index             feature       VIF\n",
              "0      3             airbags  3.587326\n",
              "1      4         ncap_rating  3.221815\n",
              "2      1          age_of_car  2.779371\n",
              "3      0       policy_tenure  2.698111\n",
              "4      2  population_density  1.684834"
            ],
            "text/html": [
              "\n",
              "  <div id=\"df-c64fd153-062d-485c-b581-e1bb655ccf71\">\n",
              "    <div class=\"colab-df-container\">\n",
              "      <div>\n",
              "<style scoped>\n",
              "    .dataframe tbody tr th:only-of-type {\n",
              "        vertical-align: middle;\n",
              "    }\n",
              "\n",
              "    .dataframe tbody tr th {\n",
              "        vertical-align: top;\n",
              "    }\n",
              "\n",
              "    .dataframe thead th {\n",
              "        text-align: right;\n",
              "    }\n",
              "</style>\n",
              "<table border=\"1\" class=\"dataframe\">\n",
              "  <thead>\n",
              "    <tr style=\"text-align: right;\">\n",
              "      <th></th>\n",
              "      <th>index</th>\n",
              "      <th>feature</th>\n",
              "      <th>VIF</th>\n",
              "    </tr>\n",
              "  </thead>\n",
              "  <tbody>\n",
              "    <tr>\n",
              "      <th>0</th>\n",
              "      <td>3</td>\n",
              "      <td>airbags</td>\n",
              "      <td>3.587326</td>\n",
              "    </tr>\n",
              "    <tr>\n",
              "      <th>1</th>\n",
              "      <td>4</td>\n",
              "      <td>ncap_rating</td>\n",
              "      <td>3.221815</td>\n",
              "    </tr>\n",
              "    <tr>\n",
              "      <th>2</th>\n",
              "      <td>1</td>\n",
              "      <td>age_of_car</td>\n",
              "      <td>2.779371</td>\n",
              "    </tr>\n",
              "    <tr>\n",
              "      <th>3</th>\n",
              "      <td>0</td>\n",
              "      <td>policy_tenure</td>\n",
              "      <td>2.698111</td>\n",
              "    </tr>\n",
              "    <tr>\n",
              "      <th>4</th>\n",
              "      <td>2</td>\n",
              "      <td>population_density</td>\n",
              "      <td>1.684834</td>\n",
              "    </tr>\n",
              "  </tbody>\n",
              "</table>\n",
              "</div>\n",
              "      <button class=\"colab-df-convert\" onclick=\"convertToInteractive('df-c64fd153-062d-485c-b581-e1bb655ccf71')\"\n",
              "              title=\"Convert this dataframe to an interactive table.\"\n",
              "              style=\"display:none;\">\n",
              "        \n",
              "  <svg xmlns=\"http://www.w3.org/2000/svg\" height=\"24px\"viewBox=\"0 0 24 24\"\n",
              "       width=\"24px\">\n",
              "    <path d=\"M0 0h24v24H0V0z\" fill=\"none\"/>\n",
              "    <path d=\"M18.56 5.44l.94 2.06.94-2.06 2.06-.94-2.06-.94-.94-2.06-.94 2.06-2.06.94zm-11 1L8.5 8.5l.94-2.06 2.06-.94-2.06-.94L8.5 2.5l-.94 2.06-2.06.94zm10 10l.94 2.06.94-2.06 2.06-.94-2.06-.94-.94-2.06-.94 2.06-2.06.94z\"/><path d=\"M17.41 7.96l-1.37-1.37c-.4-.4-.92-.59-1.43-.59-.52 0-1.04.2-1.43.59L10.3 9.45l-7.72 7.72c-.78.78-.78 2.05 0 2.83L4 21.41c.39.39.9.59 1.41.59.51 0 1.02-.2 1.41-.59l7.78-7.78 2.81-2.81c.8-.78.8-2.07 0-2.86zM5.41 20L4 18.59l7.72-7.72 1.47 1.35L5.41 20z\"/>\n",
              "  </svg>\n",
              "      </button>\n",
              "      \n",
              "  <style>\n",
              "    .colab-df-container {\n",
              "      display:flex;\n",
              "      flex-wrap:wrap;\n",
              "      gap: 12px;\n",
              "    }\n",
              "\n",
              "    .colab-df-convert {\n",
              "      background-color: #E8F0FE;\n",
              "      border: none;\n",
              "      border-radius: 50%;\n",
              "      cursor: pointer;\n",
              "      display: none;\n",
              "      fill: #1967D2;\n",
              "      height: 32px;\n",
              "      padding: 0 0 0 0;\n",
              "      width: 32px;\n",
              "    }\n",
              "\n",
              "    .colab-df-convert:hover {\n",
              "      background-color: #E2EBFA;\n",
              "      box-shadow: 0px 1px 2px rgba(60, 64, 67, 0.3), 0px 1px 3px 1px rgba(60, 64, 67, 0.15);\n",
              "      fill: #174EA6;\n",
              "    }\n",
              "\n",
              "    [theme=dark] .colab-df-convert {\n",
              "      background-color: #3B4455;\n",
              "      fill: #D2E3FC;\n",
              "    }\n",
              "\n",
              "    [theme=dark] .colab-df-convert:hover {\n",
              "      background-color: #434B5C;\n",
              "      box-shadow: 0px 1px 3px 1px rgba(0, 0, 0, 0.15);\n",
              "      filter: drop-shadow(0px 1px 2px rgba(0, 0, 0, 0.3));\n",
              "      fill: #FFFFFF;\n",
              "    }\n",
              "  </style>\n",
              "\n",
              "      <script>\n",
              "        const buttonEl =\n",
              "          document.querySelector('#df-c64fd153-062d-485c-b581-e1bb655ccf71 button.colab-df-convert');\n",
              "        buttonEl.style.display =\n",
              "          google.colab.kernel.accessAllowed ? 'block' : 'none';\n",
              "\n",
              "        async function convertToInteractive(key) {\n",
              "          const element = document.querySelector('#df-c64fd153-062d-485c-b581-e1bb655ccf71');\n",
              "          const dataTable =\n",
              "            await google.colab.kernel.invokeFunction('convertToInteractive',\n",
              "                                                     [key], {});\n",
              "          if (!dataTable) return;\n",
              "\n",
              "          const docLinkHtml = 'Like what you see? Visit the ' +\n",
              "            '<a target=\"_blank\" href=https://colab.research.google.com/notebooks/data_table.ipynb>data table notebook</a>'\n",
              "            + ' to learn more about interactive tables.';\n",
              "          element.innerHTML = '';\n",
              "          dataTable['output_type'] = 'display_data';\n",
              "          await google.colab.output.renderOutput(dataTable, element);\n",
              "          const docLink = document.createElement('div');\n",
              "          docLink.innerHTML = docLinkHtml;\n",
              "          element.appendChild(docLink);\n",
              "        }\n",
              "      </script>\n",
              "    </div>\n",
              "  </div>\n",
              "  "
            ]
          },
          "metadata": {},
          "execution_count": 93
        }
      ]
    },
    {
      "cell_type": "code",
      "source": [
        "data_clean = pd.concat([data.select_dtypes(\"object\"), \n",
        "                        data[list(feature_vif_table[\"feature\"])], \n",
        "                        data[\"is_claim\"]], axis=1)"
      ],
      "metadata": {
        "id": "wL-F2Up7hL3P"
      },
      "execution_count": 94,
      "outputs": []
    },
    {
      "cell_type": "code",
      "source": [
        "data_clean.describe()"
      ],
      "metadata": {
        "colab": {
          "base_uri": "https://localhost:8080/",
          "height": 300
        },
        "id": "oIag3NFLhM2y",
        "outputId": "395bb0ab-3b88-41df-8eee-55a31423b290"
      },
      "execution_count": 95,
      "outputs": [
        {
          "output_type": "execute_result",
          "data": {
            "text/plain": [
              "            airbags   ncap_rating    age_of_car  policy_tenure  \\\n",
              "count  58592.000000  58592.000000  58592.000000   58592.000000   \n",
              "mean       3.137066      1.759950      0.069424       0.611246   \n",
              "std        1.832641      1.389576      0.056721       0.414156   \n",
              "min        1.000000      0.000000      0.000000       0.002735   \n",
              "25%        2.000000      0.000000      0.020000       0.210250   \n",
              "50%        2.000000      2.000000      0.060000       0.573792   \n",
              "75%        6.000000      3.000000      0.110000       1.039104   \n",
              "max        6.000000      5.000000      1.000000       1.396641   \n",
              "\n",
              "       population_density      is_claim  \n",
              "count        58592.000000  58592.000000  \n",
              "mean         18826.858667      0.063968  \n",
              "std          17660.174792      0.244698  \n",
              "min            290.000000      0.000000  \n",
              "25%           6112.000000      0.000000  \n",
              "50%           8794.000000      0.000000  \n",
              "75%          27003.000000      0.000000  \n",
              "max          73430.000000      1.000000  "
            ],
            "text/html": [
              "\n",
              "  <div id=\"df-a82f1eec-3c60-477e-84aa-a7dcff5bf2c1\">\n",
              "    <div class=\"colab-df-container\">\n",
              "      <div>\n",
              "<style scoped>\n",
              "    .dataframe tbody tr th:only-of-type {\n",
              "        vertical-align: middle;\n",
              "    }\n",
              "\n",
              "    .dataframe tbody tr th {\n",
              "        vertical-align: top;\n",
              "    }\n",
              "\n",
              "    .dataframe thead th {\n",
              "        text-align: right;\n",
              "    }\n",
              "</style>\n",
              "<table border=\"1\" class=\"dataframe\">\n",
              "  <thead>\n",
              "    <tr style=\"text-align: right;\">\n",
              "      <th></th>\n",
              "      <th>airbags</th>\n",
              "      <th>ncap_rating</th>\n",
              "      <th>age_of_car</th>\n",
              "      <th>policy_tenure</th>\n",
              "      <th>population_density</th>\n",
              "      <th>is_claim</th>\n",
              "    </tr>\n",
              "  </thead>\n",
              "  <tbody>\n",
              "    <tr>\n",
              "      <th>count</th>\n",
              "      <td>58592.000000</td>\n",
              "      <td>58592.000000</td>\n",
              "      <td>58592.000000</td>\n",
              "      <td>58592.000000</td>\n",
              "      <td>58592.000000</td>\n",
              "      <td>58592.000000</td>\n",
              "    </tr>\n",
              "    <tr>\n",
              "      <th>mean</th>\n",
              "      <td>3.137066</td>\n",
              "      <td>1.759950</td>\n",
              "      <td>0.069424</td>\n",
              "      <td>0.611246</td>\n",
              "      <td>18826.858667</td>\n",
              "      <td>0.063968</td>\n",
              "    </tr>\n",
              "    <tr>\n",
              "      <th>std</th>\n",
              "      <td>1.832641</td>\n",
              "      <td>1.389576</td>\n",
              "      <td>0.056721</td>\n",
              "      <td>0.414156</td>\n",
              "      <td>17660.174792</td>\n",
              "      <td>0.244698</td>\n",
              "    </tr>\n",
              "    <tr>\n",
              "      <th>min</th>\n",
              "      <td>1.000000</td>\n",
              "      <td>0.000000</td>\n",
              "      <td>0.000000</td>\n",
              "      <td>0.002735</td>\n",
              "      <td>290.000000</td>\n",
              "      <td>0.000000</td>\n",
              "    </tr>\n",
              "    <tr>\n",
              "      <th>25%</th>\n",
              "      <td>2.000000</td>\n",
              "      <td>0.000000</td>\n",
              "      <td>0.020000</td>\n",
              "      <td>0.210250</td>\n",
              "      <td>6112.000000</td>\n",
              "      <td>0.000000</td>\n",
              "    </tr>\n",
              "    <tr>\n",
              "      <th>50%</th>\n",
              "      <td>2.000000</td>\n",
              "      <td>2.000000</td>\n",
              "      <td>0.060000</td>\n",
              "      <td>0.573792</td>\n",
              "      <td>8794.000000</td>\n",
              "      <td>0.000000</td>\n",
              "    </tr>\n",
              "    <tr>\n",
              "      <th>75%</th>\n",
              "      <td>6.000000</td>\n",
              "      <td>3.000000</td>\n",
              "      <td>0.110000</td>\n",
              "      <td>1.039104</td>\n",
              "      <td>27003.000000</td>\n",
              "      <td>0.000000</td>\n",
              "    </tr>\n",
              "    <tr>\n",
              "      <th>max</th>\n",
              "      <td>6.000000</td>\n",
              "      <td>5.000000</td>\n",
              "      <td>1.000000</td>\n",
              "      <td>1.396641</td>\n",
              "      <td>73430.000000</td>\n",
              "      <td>1.000000</td>\n",
              "    </tr>\n",
              "  </tbody>\n",
              "</table>\n",
              "</div>\n",
              "      <button class=\"colab-df-convert\" onclick=\"convertToInteractive('df-a82f1eec-3c60-477e-84aa-a7dcff5bf2c1')\"\n",
              "              title=\"Convert this dataframe to an interactive table.\"\n",
              "              style=\"display:none;\">\n",
              "        \n",
              "  <svg xmlns=\"http://www.w3.org/2000/svg\" height=\"24px\"viewBox=\"0 0 24 24\"\n",
              "       width=\"24px\">\n",
              "    <path d=\"M0 0h24v24H0V0z\" fill=\"none\"/>\n",
              "    <path d=\"M18.56 5.44l.94 2.06.94-2.06 2.06-.94-2.06-.94-.94-2.06-.94 2.06-2.06.94zm-11 1L8.5 8.5l.94-2.06 2.06-.94-2.06-.94L8.5 2.5l-.94 2.06-2.06.94zm10 10l.94 2.06.94-2.06 2.06-.94-2.06-.94-.94-2.06-.94 2.06-2.06.94z\"/><path d=\"M17.41 7.96l-1.37-1.37c-.4-.4-.92-.59-1.43-.59-.52 0-1.04.2-1.43.59L10.3 9.45l-7.72 7.72c-.78.78-.78 2.05 0 2.83L4 21.41c.39.39.9.59 1.41.59.51 0 1.02-.2 1.41-.59l7.78-7.78 2.81-2.81c.8-.78.8-2.07 0-2.86zM5.41 20L4 18.59l7.72-7.72 1.47 1.35L5.41 20z\"/>\n",
              "  </svg>\n",
              "      </button>\n",
              "      \n",
              "  <style>\n",
              "    .colab-df-container {\n",
              "      display:flex;\n",
              "      flex-wrap:wrap;\n",
              "      gap: 12px;\n",
              "    }\n",
              "\n",
              "    .colab-df-convert {\n",
              "      background-color: #E8F0FE;\n",
              "      border: none;\n",
              "      border-radius: 50%;\n",
              "      cursor: pointer;\n",
              "      display: none;\n",
              "      fill: #1967D2;\n",
              "      height: 32px;\n",
              "      padding: 0 0 0 0;\n",
              "      width: 32px;\n",
              "    }\n",
              "\n",
              "    .colab-df-convert:hover {\n",
              "      background-color: #E2EBFA;\n",
              "      box-shadow: 0px 1px 2px rgba(60, 64, 67, 0.3), 0px 1px 3px 1px rgba(60, 64, 67, 0.15);\n",
              "      fill: #174EA6;\n",
              "    }\n",
              "\n",
              "    [theme=dark] .colab-df-convert {\n",
              "      background-color: #3B4455;\n",
              "      fill: #D2E3FC;\n",
              "    }\n",
              "\n",
              "    [theme=dark] .colab-df-convert:hover {\n",
              "      background-color: #434B5C;\n",
              "      box-shadow: 0px 1px 3px 1px rgba(0, 0, 0, 0.15);\n",
              "      filter: drop-shadow(0px 1px 2px rgba(0, 0, 0, 0.3));\n",
              "      fill: #FFFFFF;\n",
              "    }\n",
              "  </style>\n",
              "\n",
              "      <script>\n",
              "        const buttonEl =\n",
              "          document.querySelector('#df-a82f1eec-3c60-477e-84aa-a7dcff5bf2c1 button.colab-df-convert');\n",
              "        buttonEl.style.display =\n",
              "          google.colab.kernel.accessAllowed ? 'block' : 'none';\n",
              "\n",
              "        async function convertToInteractive(key) {\n",
              "          const element = document.querySelector('#df-a82f1eec-3c60-477e-84aa-a7dcff5bf2c1');\n",
              "          const dataTable =\n",
              "            await google.colab.kernel.invokeFunction('convertToInteractive',\n",
              "                                                     [key], {});\n",
              "          if (!dataTable) return;\n",
              "\n",
              "          const docLinkHtml = 'Like what you see? Visit the ' +\n",
              "            '<a target=\"_blank\" href=https://colab.research.google.com/notebooks/data_table.ipynb>data table notebook</a>'\n",
              "            + ' to learn more about interactive tables.';\n",
              "          element.innerHTML = '';\n",
              "          dataTable['output_type'] = 'display_data';\n",
              "          await google.colab.output.renderOutput(dataTable, element);\n",
              "          const docLink = document.createElement('div');\n",
              "          docLink.innerHTML = docLinkHtml;\n",
              "          element.appendChild(docLink);\n",
              "        }\n",
              "      </script>\n",
              "    </div>\n",
              "  </div>\n",
              "  "
            ]
          },
          "metadata": {},
          "execution_count": 95
        }
      ]
    },
    {
      "cell_type": "code",
      "source": [
        "data_clean.hist(bins=50, figsize=(8,8))\n",
        "plt.show()"
      ],
      "metadata": {
        "colab": {
          "base_uri": "https://localhost:8080/",
          "height": 499
        },
        "id": "oGQWcoSnhQEU",
        "outputId": "3872565b-8395-4c3b-9b46-10e3590742e2"
      },
      "execution_count": 96,
      "outputs": [
        {
          "output_type": "display_data",
          "data": {
            "text/plain": [
              "<Figure size 576x576 with 6 Axes>"
            ],
            "image/png": "[encoded data removed]"
          },
          "metadata": {
            "needs_background": "light"
          }
        }
      ]
    },
    {
      "cell_type": "code",
      "source": [
        "data_clean = data_clean[data_clean[\"age_of_car\"] < 0.25] "
      ],
      "metadata": {
        "id": "feFeacJOhTqv"
      },
      "execution_count": 97,
      "outputs": []
    },
    {
      "cell_type": "markdown",
      "source": [
        "# Preprocessing"
      ],
      "metadata": {
        "id": "K4O5VynnfMJR"
      }
    },
    {
      "cell_type": "code",
      "source": [
        "X = data_clean.drop(\"is_claim\", axis=1)\n",
        "y = data_clean[\"is_claim\"]\n",
        "\n",
        "X_train, X_valid, y_train, y_valid = train_test_split(X, y, random_state=737, test_size=0.2, stratify=y)"
      ],
      "metadata": {
        "id": "eg6KpQLrhWlZ"
      },
      "execution_count": 98,
      "outputs": []
    },
    {
      "cell_type": "code",
      "source": [
        "X_train = pd.get_dummies(X_train, drop_first=True)\n",
        "X_valid = pd.get_dummies(X_valid, drop_first=True)"
      ],
      "metadata": {
        "id": "HGhPiZUYhcWx"
      },
      "execution_count": 99,
      "outputs": []
    },
    {
      "cell_type": "code",
      "source": [
        "sampler = RandomOverSampler(random_state=737)\n",
        "X_train_over, y_train_over = sampler.fit_resample(X_train,y_train)"
      ],
      "metadata": {
        "id": "ltoq16tEhfvP"
      },
      "execution_count": 100,
      "outputs": []
    },
    {
      "cell_type": "code",
      "source": [
        "y_train_over.hist(figsize=(15,3))\n",
        "plt.title(\"Spread of zeroes and ones\")\n",
        "plt.show()"
      ],
      "metadata": {
        "colab": {
          "base_uri": "https://localhost:8080/",
          "height": 227
        },
        "id": "gl6nOVNYhmcB",
        "outputId": "c2e9c7c0-e3a6-4d9c-e478-155912b81455"
      },
      "execution_count": 101,
      "outputs": [
        {
          "output_type": "display_data",
          "data": {
            "text/plain": [
              "<Figure size 1080x216 with 1 Axes>"
            ],
            "image/png": "[encoded data removed]"
          },
          "metadata": {
            "needs_background": "light"
          }
        }
      ]
    },
    {
      "cell_type": "markdown",
      "source": [
        "# Base Model"
      ],
      "metadata": {
        "id": "SzKyXM7rftTr"
      }
    },
    {
      "cell_type": "markdown",
      "source": [
        " **Base Model**"
      ],
      "metadata": {
        "id": "GKjVlAvSiN8Q"
      }
    },
    {
      "cell_type": "code",
      "source": [
        "dummy = DummyClassifier(strategy=\"stratified\", random_state=737)\n",
        "dummy.fit(X_train_over, y_train_over)\n",
        "predicted_valid = dummy.predict(X_valid)\n",
        "accuracy = accuracy_score(y_valid, predicted_valid)\n",
        "ras = roc_auc_score(y_valid, dummy.predict_proba(X_valid)[:, 1])\n",
        "f1 = f1_score(y_valid, predicted_valid)\n",
        "recall = recall_score(y_valid, predicted_valid)\n",
        "precision = precision_score(y_valid, predicted_valid)\n",
        "print(\"Accuracy score = \", accuracy)\n",
        "print(\"AUC-ROC score = \", ras)\n",
        "print(\"F1 score = \", f1)\n",
        "print(\"Recall score = \", recall)\n",
        "print(\"Precision score = \", precision)"
      ],
      "metadata": {
        "colab": {
          "base_uri": "https://localhost:8080/"
        },
        "id": "xp3WgvvQiGLp",
        "outputId": "7e2db570-b464-4a17-e107-a4da7e37a054"
      },
      "execution_count": 102,
      "outputs": [
        {
          "output_type": "stream",
          "name": "stdout",
          "text": [
            "Accuracy score =  0.4964423489069867\n",
            "AUC-ROC score =  0.4974766456084045\n",
            "F1 score =  0.11268882175226586\n",
            "Recall score =  0.49866310160427807\n",
            "Precision score =  0.06352179836512262\n"
          ]
        }
      ]
    },
    {
      "cell_type": "markdown",
      "source": [
        "# Model"
      ],
      "metadata": {
        "id": "olUoRdUwfYFk"
      }
    },
    {
      "cell_type": "code",
      "source": [
        "model = RandomForestClassifier(random_state=737)\n",
        "np.random.seed(737)\n",
        "\n",
        "param_distributions = {\"max_depth\": randint(3,10), \n",
        "                       \"min_samples_split\": randint(2, 9),\n",
        "                       \"min_samples_leaf\": randint(2, 9)\n",
        "                      }\n",
        "search = HalvingRandomSearchCV(model, param_distributions, resource=\"n_estimators\",\n",
        "                               max_resources=50,\n",
        "                               random_state=737,\n",
        "                               scoring=\"f1\",\n",
        "                               cv=5).fit(X_train_over, y_train_over)\n",
        "search.best_params_"
      ],
      "metadata": {
        "colab": {
          "base_uri": "https://localhost:8080/"
        },
        "id": "UEF_cYbEiTUs",
        "outputId": "20e781ee-7c0c-4fde-9d0e-b9427405e268"
      },
      "execution_count": 103,
      "outputs": [
        {
          "output_type": "execute_result",
          "data": {
            "text/plain": [
              "{'max_depth': 9,\n",
              " 'min_samples_leaf': 8,\n",
              " 'min_samples_split': 8,\n",
              " 'n_estimators': 27}"
            ]
          },
          "metadata": {},
          "execution_count": 103
        }
      ]
    },
    {
      "cell_type": "code",
      "source": [
        "model = RandomForestClassifier(random_state=737, **search.best_params_)\n",
        "model.fit(X_train_over, y_train_over)\n",
        "predicted_valid = model.predict(X_valid)\n",
        "accuracy = accuracy_score(y_valid, predicted_valid)\n",
        "ras = roc_auc_score(y_valid, model.predict_proba(X_valid)[:, 1])\n",
        "f1 = f1_score(y_valid, predicted_valid)\n",
        "recall = recall_score(y_valid, predicted_valid)\n",
        "precision = precision_score(y_valid, predicted_valid)\n",
        "print(\"Accuracy score = \", accuracy)\n",
        "print(\"AUC-ROC score = \", ras)\n",
        "print(\"F1 score = \", f1)\n",
        "print(\"Recall score = \", recall)\n",
        "print(\"Precision score = \", precision)"
      ],
      "metadata": {
        "colab": {
          "base_uri": "https://localhost:8080/"
        },
        "id": "XIGMcp5wiWCm",
        "outputId": "9f459360-f509-4ebd-95b7-3183d19e7887"
      },
      "execution_count": 104,
      "outputs": [
        {
          "output_type": "stream",
          "name": "stdout",
          "text": [
            "Accuracy score =  0.5873124732104587\n",
            "AUC-ROC score =  0.6416906566268867\n",
            "F1 score =  0.16481609993060375\n",
            "Recall score =  0.6350267379679144\n",
            "Precision score =  0.0946969696969697\n"
          ]
        }
      ]
    },
    {
      "cell_type": "code",
      "source": [],
      "metadata": {
        "id": "7n_jZ8EguP6R"
      },
      "execution_count": null,
      "outputs": []
    }
  ]
}